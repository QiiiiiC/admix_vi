{
 "cells": [
  {
   "cell_type": "code",
   "execution_count": 1,
   "metadata": {},
   "outputs": [],
   "source": [
    "import pandas as pd\n",
    "import numpy as np\n",
    "import pymc as pm\n",
    "import arviz as az\n",
    "import matplotlib.pyplot as plt\n",
    "import simulation\n",
    "from topology import nodes_admix,nodes_simple,events_admix,events_simple\n",
    "from likelihood import create_nodes_map,mig_matrix, expected_ratio_tensor,frac_function_pm,expected_ratio,expected_ratio_tensor_new\n",
    "import pytensor.tensor as pt\n"
   ]
  },
  {
   "cell_type": "code",
   "execution_count": 5,
   "metadata": {},
   "outputs": [],
   "source": [
    "\n",
    "N = pt.as_tensor_variable([2500,2500,2500,1000,5000])\n",
    "T_ = pt.as_tensor_variable([0,25,50,10000000])\n",
    "## The length bins we are interested.\n",
    "L = [0,0.1,0.2,0.25,0.3,0.35,0.4,0.45,0.5,0.55,0.6,0.65,0.7,0.75,0.8,0.85,0.9,0.95,1,1.5,2,2.5,3,3.5,4,4.5,5,100] \n",
    "out_shape = (len(L) - 1, 3, 3)  # Adjust this shape according to your needs\n",
    "out_tensor = pt.zeros(out_shape)\n",
    "\n",
    " \n",
    "\n",
    "for i in range(len(L)-1):\n",
    "    u = L[i]\n",
    "    v = L[i+1]\n",
    "    true_mean = expected_ratio_tensor(N=N,starting = 5,d=3,T=T_,nodes=nodes_simple, events=events_simple,u=u,v=v)\n",
    "    out_tensor = pt.set_subtensor(out_tensor[i], true_mean)\n"
   ]
  },
  {
   "cell_type": "code",
   "execution_count": 6,
   "metadata": {},
   "outputs": [
    {
     "data": {
      "text/plain": [
       "array([[[8.18238665e-01, 8.34736306e-01, 8.34736306e-01],\n",
       "        [8.34736306e-01, 8.06097348e-01, 8.14194687e-01],\n",
       "        [8.34736306e-01, 8.14194687e-01, 8.06097348e-01]],\n",
       "\n",
       "       [[7.98253613e-02, 8.13484328e-02, 8.13484328e-02],\n",
       "        [8.13484328e-02, 7.87505636e-02, 7.95301963e-02],\n",
       "        [8.13484328e-02, 7.95301963e-02, 7.87505636e-02]],\n",
       "\n",
       "       [[1.73836430e-02, 1.76711114e-02, 1.76711114e-02],\n",
       "        [1.76711114e-02, 1.72053990e-02, 1.73696785e-02],\n",
       "        [1.76711114e-02, 1.73696785e-02, 1.72053990e-02]],\n",
       "\n",
       "       [[1.18860294e-02, 1.20510996e-02, 1.20510996e-02],\n",
       "        [1.20510996e-02, 1.18037040e-02, 1.19119702e-02],\n",
       "        [1.20510996e-02, 1.19119702e-02, 1.18037040e-02]],\n",
       "\n",
       "       [[8.64711847e-03, 8.73631815e-03, 8.73631815e-03],\n",
       "        [8.73631815e-03, 8.62586692e-03, 8.70053634e-03],\n",
       "        [8.73631815e-03, 8.70053634e-03, 8.62586692e-03]],\n",
       "\n",
       "       [[6.57941358e-03, 6.61724778e-03, 6.61724778e-03],\n",
       "        [6.61724778e-03, 6.60065768e-03, 6.65337871e-03],\n",
       "        [6.61724778e-03, 6.65337871e-03, 6.60065768e-03]],\n",
       "\n",
       "       [[5.17943868e-03, 5.18019067e-03, 5.18019067e-03],\n",
       "        [5.18019067e-03, 5.23216748e-03, 5.26960265e-03],\n",
       "        [5.18019067e-03, 5.26960265e-03, 5.23216748e-03]],\n",
       "\n",
       "       [[4.18792222e-03, 4.16058951e-03, 4.16058951e-03],\n",
       "        [4.16058951e-03, 4.26505231e-03, 4.29129602e-03],\n",
       "        [4.16058951e-03, 4.29129602e-03, 4.26505231e-03]],\n",
       "\n",
       "       [[3.46024522e-03, 3.41085837e-03, 3.41085837e-03],\n",
       "        [3.41085837e-03, 3.55690999e-03, 3.57462366e-03],\n",
       "        [3.41085837e-03, 3.57462366e-03, 3.55690999e-03]],\n",
       "\n",
       "       [[2.91055213e-03, 2.84336437e-03, 2.84336437e-03],\n",
       "        [2.84336437e-03, 3.02322333e-03, 3.03421719e-03],\n",
       "        [2.84336437e-03, 3.03421719e-03, 3.02322333e-03]],\n",
       "\n",
       "       [[2.48525588e-03, 2.40339732e-03, 2.40339732e-03],\n",
       "        [2.40339732e-03, 2.61125978e-03, 2.61681235e-03],\n",
       "        [2.40339732e-03, 2.61681235e-03, 2.61125978e-03]],\n",
       "\n",
       "       [[2.14950474e-03, 2.05536312e-03, 2.05536312e-03],\n",
       "        [2.05536312e-03, 2.28674002e-03, 2.28778364e-03],\n",
       "        [2.05536312e-03, 2.28778364e-03, 2.28674002e-03]],\n",
       "\n",
       "       [[1.87983778e-03, 1.77529070e-03, 1.77529070e-03],\n",
       "        [1.77529070e-03, 2.02660288e-03, 2.02383647e-03],\n",
       "        [1.77529070e-03, 2.02383647e-03, 2.02660288e-03]],\n",
       "\n",
       "       [[1.65999306e-03, 1.54655545e-03, 1.54655545e-03],\n",
       "        [1.54655545e-03, 1.81487614e-03, 1.80883654e-03],\n",
       "        [1.54655545e-03, 1.80883654e-03, 1.81487614e-03]],\n",
       "\n",
       "       [[1.47841140e-03, 1.35733239e-03, 1.35733239e-03],\n",
       "        [1.35733239e-03, 1.64021757e-03, 1.63132606e-03],\n",
       "        [1.35733239e-03, 1.63132606e-03, 1.64021757e-03]],\n",
       "\n",
       "       [[1.32669457e-03, 1.19902319e-03, 1.19902319e-03],\n",
       "        [1.19902319e-03, 1.49439630e-03, 1.48298995e-03],\n",
       "        [1.19902319e-03, 1.48298995e-03, 1.49439630e-03]],\n",
       "\n",
       "       [[1.19862267e-03, 1.06525356e-03, 1.06525356e-03],\n",
       "        [1.06525356e-03, 1.37132489e-03, 1.35767813e-03],\n",
       "        [1.06525356e-03, 1.35767813e-03, 1.37132489e-03]],\n",
       "\n",
       "       [[1.08951023e-03, 9.51216242e-04, 9.51216242e-04],\n",
       "        [9.51216242e-04, 1.26642516e-03, 1.25076500e-03],\n",
       "        [9.51216242e-04, 1.25076500e-03, 1.26642516e-03]],\n",
       "\n",
       "       [[7.26562497e-03, 5.72894389e-03, 5.72894389e-03],\n",
       "        [5.72894389e-03, 9.14277314e-03, 8.90685179e-03],\n",
       "        [5.72894389e-03, 8.90685179e-03, 9.14277314e-03]],\n",
       "\n",
       "       [[4.06825632e-03, 2.47221548e-03, 2.47221548e-03],\n",
       "        [2.47221548e-03, 5.90392500e-03, 5.57922249e-03],\n",
       "        [2.47221548e-03, 5.57922249e-03, 5.90392500e-03]],\n",
       "\n",
       "       [[2.71713513e-03, 1.21954918e-03, 1.21954918e-03],\n",
       "        [1.21954918e-03, 4.34564793e-03, 3.97535573e-03],\n",
       "        [1.21954918e-03, 3.97535573e-03, 4.34564793e-03]],\n",
       "\n",
       "       [[1.98526998e-03, 6.43862292e-04, 6.43862292e-04],\n",
       "        [6.43862292e-04, 3.35826519e-03, 2.96679771e-03],\n",
       "        [6.43862292e-04, 2.96679771e-03, 3.35826519e-03]],\n",
       "\n",
       "       [[1.52659907e-03, 3.53544928e-04, 3.53544928e-04],\n",
       "        [3.53544928e-04, 2.64905318e-03, 2.25220778e-03],\n",
       "        [3.53544928e-04, 2.25220778e-03, 2.64905318e-03]],\n",
       "\n",
       "       [[1.21235195e-03, 1.98997709e-04, 1.98997709e-04],\n",
       "        [1.98997709e-04, 2.11176698e-03, 1.72007528e-03],\n",
       "        [1.98997709e-04, 1.72007528e-03, 2.11176698e-03]],\n",
       "\n",
       "       [[9.84647355e-04, 1.13882684e-04, 1.13882684e-04],\n",
       "        [1.13882684e-04, 1.69560882e-03, 1.31600998e-03],\n",
       "        [1.13882684e-04, 1.31600998e-03, 1.69560882e-03]],\n",
       "\n",
       "       [[8.13473703e-04, 6.59367449e-05, 6.59367449e-05],\n",
       "        [6.59367449e-05, 1.37019275e-03, 1.00707901e-03],\n",
       "        [6.59367449e-05, 1.00707901e-03, 1.37019275e-03]],\n",
       "\n",
       "       [[7.46054204e-03, 9.41161277e-05, 9.41161277e-05],\n",
       "        [9.41161277e-05, 9.35015201e-03, 3.28618577e-03],\n",
       "        [9.41161277e-05, 3.28618577e-03, 9.35015201e-03]]])"
      ]
     },
     "execution_count": 6,
     "metadata": {},
     "output_type": "execute_result"
    }
   ],
   "source": [
    "out_tensor.eval()"
   ]
  },
  {
   "cell_type": "code",
   "execution_count": 2,
   "metadata": {},
   "outputs": [],
   "source": [
    "N = pt.as_tensor_variable([2500,2500,2500,1000,5000])\n",
    "T_ = pt.as_tensor_variable([0,25,50,10000000])\n",
    "## The length bins we are interested.\n",
    "L = [0,0.1,0.2,0.25,0.3,0.35,0.4,0.45,0.5,0.55,0.6,0.65,0.7,0.75,0.8,0.85,0.9,0.95,1,1.5,2,2.5,3,3.5,4,4.5,5,100] \n",
    "out_shape = (len(L) - 1, 3, 3)  # Adjust this shape according to your needs\n",
    "out_tensor_new = pt.zeros(out_shape)\n",
    "\n",
    " \n",
    "\n",
    "for i in range(len(L)-1):\n",
    "    u = L[i]\n",
    "    v = L[i+1]\n",
    "    true_mean = expected_ratio_tensor_new(N=N,starting=5,d=3,T=T_,nodes=nodes_simple, events=events_simple,u=u,v=v)\n",
    "    out_tensor_new = pt.set_subtensor(out_tensor_new[i], true_mean)"
   ]
  },
  {
   "cell_type": "code",
   "execution_count": 3,
   "metadata": {},
   "outputs": [
    {
     "data": {
      "text/plain": [
       "array([[[8.18238665e-01, 8.34736306e-01, 8.34736306e-01],\n",
       "        [8.34736306e-01, 8.06097348e-01, 8.14194687e-01],\n",
       "        [8.34736306e-01, 8.14194687e-01, 8.06097348e-01]],\n",
       "\n",
       "       [[7.98253613e-02, 8.13484328e-02, 8.13484328e-02],\n",
       "        [8.13484328e-02, 7.87505636e-02, 7.95301963e-02],\n",
       "        [8.13484328e-02, 7.95301963e-02, 7.87505636e-02]],\n",
       "\n",
       "       [[1.73836430e-02, 1.76711114e-02, 1.76711114e-02],\n",
       "        [1.76711114e-02, 1.72053990e-02, 1.73696785e-02],\n",
       "        [1.76711114e-02, 1.73696785e-02, 1.72053990e-02]],\n",
       "\n",
       "       [[1.18860294e-02, 1.20510996e-02, 1.20510996e-02],\n",
       "        [1.20510996e-02, 1.18037040e-02, 1.19119702e-02],\n",
       "        [1.20510996e-02, 1.19119702e-02, 1.18037040e-02]],\n",
       "\n",
       "       [[8.64711847e-03, 8.73631815e-03, 8.73631815e-03],\n",
       "        [8.73631815e-03, 8.62586692e-03, 8.70053634e-03],\n",
       "        [8.73631815e-03, 8.70053634e-03, 8.62586692e-03]],\n",
       "\n",
       "       [[6.57941358e-03, 6.61724778e-03, 6.61724778e-03],\n",
       "        [6.61724778e-03, 6.60065768e-03, 6.65337871e-03],\n",
       "        [6.61724778e-03, 6.65337871e-03, 6.60065768e-03]],\n",
       "\n",
       "       [[5.17943868e-03, 5.18019067e-03, 5.18019067e-03],\n",
       "        [5.18019067e-03, 5.23216748e-03, 5.26960265e-03],\n",
       "        [5.18019067e-03, 5.26960265e-03, 5.23216748e-03]],\n",
       "\n",
       "       [[4.18792222e-03, 4.16058951e-03, 4.16058951e-03],\n",
       "        [4.16058951e-03, 4.26505231e-03, 4.29129602e-03],\n",
       "        [4.16058951e-03, 4.29129602e-03, 4.26505231e-03]],\n",
       "\n",
       "       [[3.46024522e-03, 3.41085837e-03, 3.41085837e-03],\n",
       "        [3.41085837e-03, 3.55690999e-03, 3.57462366e-03],\n",
       "        [3.41085837e-03, 3.57462366e-03, 3.55690999e-03]],\n",
       "\n",
       "       [[2.91055213e-03, 2.84336437e-03, 2.84336437e-03],\n",
       "        [2.84336437e-03, 3.02322333e-03, 3.03421719e-03],\n",
       "        [2.84336437e-03, 3.03421719e-03, 3.02322333e-03]],\n",
       "\n",
       "       [[2.48525588e-03, 2.40339732e-03, 2.40339732e-03],\n",
       "        [2.40339732e-03, 2.61125978e-03, 2.61681235e-03],\n",
       "        [2.40339732e-03, 2.61681235e-03, 2.61125978e-03]],\n",
       "\n",
       "       [[2.14950474e-03, 2.05536312e-03, 2.05536312e-03],\n",
       "        [2.05536312e-03, 2.28674002e-03, 2.28778364e-03],\n",
       "        [2.05536312e-03, 2.28778364e-03, 2.28674002e-03]],\n",
       "\n",
       "       [[1.87983778e-03, 1.77529070e-03, 1.77529070e-03],\n",
       "        [1.77529070e-03, 2.02660288e-03, 2.02383647e-03],\n",
       "        [1.77529070e-03, 2.02383647e-03, 2.02660288e-03]],\n",
       "\n",
       "       [[1.65999306e-03, 1.54655545e-03, 1.54655545e-03],\n",
       "        [1.54655545e-03, 1.81487614e-03, 1.80883654e-03],\n",
       "        [1.54655545e-03, 1.80883654e-03, 1.81487614e-03]],\n",
       "\n",
       "       [[1.47841140e-03, 1.35733239e-03, 1.35733239e-03],\n",
       "        [1.35733239e-03, 1.64021757e-03, 1.63132606e-03],\n",
       "        [1.35733239e-03, 1.63132606e-03, 1.64021757e-03]],\n",
       "\n",
       "       [[1.32669457e-03, 1.19902319e-03, 1.19902319e-03],\n",
       "        [1.19902319e-03, 1.49439630e-03, 1.48298995e-03],\n",
       "        [1.19902319e-03, 1.48298995e-03, 1.49439630e-03]],\n",
       "\n",
       "       [[1.19862267e-03, 1.06525356e-03, 1.06525356e-03],\n",
       "        [1.06525356e-03, 1.37132489e-03, 1.35767813e-03],\n",
       "        [1.06525356e-03, 1.35767813e-03, 1.37132489e-03]],\n",
       "\n",
       "       [[1.08951023e-03, 9.51216242e-04, 9.51216242e-04],\n",
       "        [9.51216242e-04, 1.26642516e-03, 1.25076500e-03],\n",
       "        [9.51216242e-04, 1.25076500e-03, 1.26642516e-03]],\n",
       "\n",
       "       [[7.26562497e-03, 5.72894389e-03, 5.72894389e-03],\n",
       "        [5.72894389e-03, 9.14277314e-03, 8.90685179e-03],\n",
       "        [5.72894389e-03, 8.90685179e-03, 9.14277314e-03]],\n",
       "\n",
       "       [[4.06825632e-03, 2.47221548e-03, 2.47221548e-03],\n",
       "        [2.47221548e-03, 5.90392500e-03, 5.57922249e-03],\n",
       "        [2.47221548e-03, 5.57922249e-03, 5.90392500e-03]],\n",
       "\n",
       "       [[2.71713513e-03, 1.21954918e-03, 1.21954918e-03],\n",
       "        [1.21954918e-03, 4.34564793e-03, 3.97535573e-03],\n",
       "        [1.21954918e-03, 3.97535573e-03, 4.34564793e-03]],\n",
       "\n",
       "       [[1.98526998e-03, 6.43862292e-04, 6.43862292e-04],\n",
       "        [6.43862292e-04, 3.35826519e-03, 2.96679771e-03],\n",
       "        [6.43862292e-04, 2.96679771e-03, 3.35826519e-03]],\n",
       "\n",
       "       [[1.52659907e-03, 3.53544928e-04, 3.53544928e-04],\n",
       "        [3.53544928e-04, 2.64905318e-03, 2.25220778e-03],\n",
       "        [3.53544928e-04, 2.25220778e-03, 2.64905318e-03]],\n",
       "\n",
       "       [[1.21235195e-03, 1.98997709e-04, 1.98997709e-04],\n",
       "        [1.98997709e-04, 2.11176698e-03, 1.72007528e-03],\n",
       "        [1.98997709e-04, 1.72007528e-03, 2.11176698e-03]],\n",
       "\n",
       "       [[9.84647355e-04, 1.13882684e-04, 1.13882684e-04],\n",
       "        [1.13882684e-04, 1.69560882e-03, 1.31600998e-03],\n",
       "        [1.13882684e-04, 1.31600998e-03, 1.69560882e-03]],\n",
       "\n",
       "       [[8.13473703e-04, 6.59367449e-05, 6.59367449e-05],\n",
       "        [6.59367449e-05, 1.37019275e-03, 1.00707901e-03],\n",
       "        [6.59367449e-05, 1.00707901e-03, 1.37019275e-03]],\n",
       "\n",
       "       [[7.46054204e-03, 9.41161277e-05, 9.41161277e-05],\n",
       "        [9.41161277e-05, 9.35015201e-03, 3.28618577e-03],\n",
       "        [9.41161277e-05, 3.28618577e-03, 9.35015201e-03]]])"
      ]
     },
     "execution_count": 3,
     "metadata": {},
     "output_type": "execute_result"
    }
   ],
   "source": [
    "out_tensor_new.eval()"
   ]
  },
  {
   "cell_type": "code",
   "execution_count": 4,
   "metadata": {},
   "outputs": [
    {
     "data": {
      "text/plain": [
       "[array([[0.81823867, 0.83473631, 0.83473631],\n",
       "        [0.83473631, 0.80609735, 0.81419469],\n",
       "        [0.83473631, 0.81419469, 0.80609735]]),\n",
       " array([[0.07982536, 0.08134843, 0.08134843],\n",
       "        [0.08134843, 0.07875056, 0.0795302 ],\n",
       "        [0.08134843, 0.0795302 , 0.07875056]]),\n",
       " array([[0.01738364, 0.01767111, 0.01767111],\n",
       "        [0.01767111, 0.0172054 , 0.01736968],\n",
       "        [0.01767111, 0.01736968, 0.0172054 ]]),\n",
       " array([[0.01188603, 0.0120511 , 0.0120511 ],\n",
       "        [0.0120511 , 0.0118037 , 0.01191197],\n",
       "        [0.0120511 , 0.01191197, 0.0118037 ]]),\n",
       " array([[0.00864712, 0.00873632, 0.00873632],\n",
       "        [0.00873632, 0.00862587, 0.00870054],\n",
       "        [0.00873632, 0.00870054, 0.00862587]]),\n",
       " array([[0.00657941, 0.00661725, 0.00661725],\n",
       "        [0.00661725, 0.00660066, 0.00665338],\n",
       "        [0.00661725, 0.00665338, 0.00660066]]),\n",
       " array([[0.00517944, 0.00518019, 0.00518019],\n",
       "        [0.00518019, 0.00523217, 0.0052696 ],\n",
       "        [0.00518019, 0.0052696 , 0.00523217]]),\n",
       " array([[0.00418792, 0.00416059, 0.00416059],\n",
       "        [0.00416059, 0.00426505, 0.0042913 ],\n",
       "        [0.00416059, 0.0042913 , 0.00426505]]),\n",
       " array([[0.00346025, 0.00341086, 0.00341086],\n",
       "        [0.00341086, 0.00355691, 0.00357462],\n",
       "        [0.00341086, 0.00357462, 0.00355691]]),\n",
       " array([[0.00291055, 0.00284336, 0.00284336],\n",
       "        [0.00284336, 0.00302322, 0.00303422],\n",
       "        [0.00284336, 0.00303422, 0.00302322]]),\n",
       " array([[0.00248526, 0.0024034 , 0.0024034 ],\n",
       "        [0.0024034 , 0.00261126, 0.00261681],\n",
       "        [0.0024034 , 0.00261681, 0.00261126]]),\n",
       " array([[0.0021495 , 0.00205536, 0.00205536],\n",
       "        [0.00205536, 0.00228674, 0.00228778],\n",
       "        [0.00205536, 0.00228778, 0.00228674]]),\n",
       " array([[0.00187984, 0.00177529, 0.00177529],\n",
       "        [0.00177529, 0.0020266 , 0.00202384],\n",
       "        [0.00177529, 0.00202384, 0.0020266 ]]),\n",
       " array([[0.00165999, 0.00154656, 0.00154656],\n",
       "        [0.00154656, 0.00181488, 0.00180884],\n",
       "        [0.00154656, 0.00180884, 0.00181488]]),\n",
       " array([[0.00147841, 0.00135733, 0.00135733],\n",
       "        [0.00135733, 0.00164022, 0.00163133],\n",
       "        [0.00135733, 0.00163133, 0.00164022]]),\n",
       " array([[0.00132669, 0.00119902, 0.00119902],\n",
       "        [0.00119902, 0.0014944 , 0.00148299],\n",
       "        [0.00119902, 0.00148299, 0.0014944 ]]),\n",
       " array([[0.00119862, 0.00106525, 0.00106525],\n",
       "        [0.00106525, 0.00137132, 0.00135768],\n",
       "        [0.00106525, 0.00135768, 0.00137132]]),\n",
       " array([[0.00108951, 0.00095122, 0.00095122],\n",
       "        [0.00095122, 0.00126643, 0.00125076],\n",
       "        [0.00095122, 0.00125076, 0.00126643]]),\n",
       " array([[0.00726562, 0.00572894, 0.00572894],\n",
       "        [0.00572894, 0.00914277, 0.00890685],\n",
       "        [0.00572894, 0.00890685, 0.00914277]]),\n",
       " array([[0.00406826, 0.00247222, 0.00247222],\n",
       "        [0.00247222, 0.00590392, 0.00557922],\n",
       "        [0.00247222, 0.00557922, 0.00590392]]),\n",
       " array([[0.00271714, 0.00121955, 0.00121955],\n",
       "        [0.00121955, 0.00434565, 0.00397536],\n",
       "        [0.00121955, 0.00397536, 0.00434565]]),\n",
       " array([[0.00198527, 0.00064386, 0.00064386],\n",
       "        [0.00064386, 0.00335827, 0.0029668 ],\n",
       "        [0.00064386, 0.0029668 , 0.00335827]]),\n",
       " array([[0.0015266 , 0.00035354, 0.00035354],\n",
       "        [0.00035354, 0.00264905, 0.00225221],\n",
       "        [0.00035354, 0.00225221, 0.00264905]]),\n",
       " array([[0.00121235, 0.000199  , 0.000199  ],\n",
       "        [0.000199  , 0.00211177, 0.00172008],\n",
       "        [0.000199  , 0.00172008, 0.00211177]]),\n",
       " array([[0.00098465, 0.00011388, 0.00011388],\n",
       "        [0.00011388, 0.00169561, 0.00131601],\n",
       "        [0.00011388, 0.00131601, 0.00169561]]),\n",
       " array([[8.13473703e-04, 6.59367449e-05, 6.59367449e-05],\n",
       "        [6.59367449e-05, 1.37019275e-03, 1.00707901e-03],\n",
       "        [6.59367449e-05, 1.00707901e-03, 1.37019275e-03]]),\n",
       " array([[7.46054204e-03, 9.41161277e-05, 9.41161277e-05],\n",
       "        [9.41161277e-05, 9.35015201e-03, 3.28618577e-03],\n",
       "        [9.41161277e-05, 3.28618577e-03, 9.35015201e-03]])]"
      ]
     },
     "execution_count": 4,
     "metadata": {},
     "output_type": "execute_result"
    }
   ],
   "source": [
    "N = [1250,1250,1250,500,2500]\n",
    "T = [25,50]\n",
    "## The length bins we are interested.\n",
    "L = [0,0.1,0.2,0.25,0.3,0.35,0.4,0.45,0.5,0.55,0.6,0.65,0.7,0.75,0.8,0.85,0.9,0.95,1,1.5,2,2.5,3,3.5,4,4.5,5,100] \n",
    "T_ = [0]+T\n",
    "real_N = [i*2 for i in N]\n",
    "out = []\n",
    "\n",
    "\n",
    "for i in range(len(L)-1):\n",
    "    u = L[i]\n",
    "    v = L[i+1]\n",
    "    true_mean = expected_ratio(N=real_N,d=3,T=T_,nodes=nodes_simple, events=events_simple,u=u,v=v)\n",
    "    out.append(true_mean)\n",
    "out"
   ]
  },
  {
   "cell_type": "code",
   "execution_count": 22,
   "metadata": {},
   "outputs": [
    {
     "data": {
      "application/vnd.jupyter.widget-view+json": {
       "model_id": "449b250ffc3e40c7a37c202f0f45822b",
       "version_major": 2,
       "version_minor": 0
      },
      "text/plain": [
       "Output()"
      ]
     },
     "metadata": {},
     "output_type": "display_data"
    },
    {
     "data": {
      "text/html": [
       "<pre style=\"white-space:pre;overflow-x:auto;line-height:normal;font-family:Menlo,'DejaVu Sans Mono',consolas,'Courier New',monospace\"></pre>\n"
      ],
      "text/plain": []
     },
     "metadata": {},
     "output_type": "display_data"
    },
    {
     "data": {
      "text/html": [
       "<pre style=\"white-space:pre;overflow-x:auto;line-height:normal;font-family:Menlo,'DejaVu Sans Mono',consolas,'Courier New',monospace\">\n",
       "</pre>\n"
      ],
      "text/plain": [
       "\n"
      ]
     },
     "metadata": {},
     "output_type": "display_data"
    },
    {
     "name": "stderr",
     "output_type": "stream",
     "text": [
      "Finished [100%]: Average Loss = 27.704\n"
     ]
    }
   ],
   "source": [
    "\n",
    "np.random.seed(40)\n",
    "observed_data = np.random.normal(0.0177,0.25,1000)\n",
    "\n",
    "with pm.Model() as adv:\n",
    "    N1 = pm.Gamma('N1',alpha = 25,beta = 0.005)\n",
    "    T1 = pm.Exponential('T1',lam = 1/3000)\n",
    "    obs = pm.Normal('obs',mu=frac_function_pm(N1,1,10,0,T1),sigma = 0.25,observed = observed_data)\n",
    "    approx = pm.fit(method='advi', n=100000)\n",
    "    trace = approx.sample(draws=5000)"
   ]
  },
  {
   "cell_type": "code",
   "execution_count": 23,
   "metadata": {},
   "outputs": [
    {
     "data": {
      "image/png": "[encoded data removed]",
      "text/plain": [
       "<Figure size 1472x552 with 2 Axes>"
      ]
     },
     "metadata": {},
     "output_type": "display_data"
    }
   ],
   "source": [
    "az.plot_posterior(approx.sample(10000), color=\"LightSeaGreen\");\n"
   ]
  },
  {
   "cell_type": "code",
   "execution_count": 9,
   "metadata": {},
   "outputs": [
    {
     "data": {
      "application/vnd.jupyter.widget-view+json": {
       "model_id": "176e0cccb8704f5dbede29bc0796a502",
       "version_major": 2,
       "version_minor": 0
      },
      "text/plain": [
       "Output()"
      ]
     },
     "metadata": {},
     "output_type": "display_data"
    },
    {
     "data": {
      "text/html": [
       "<pre style=\"white-space:pre;overflow-x:auto;line-height:normal;font-family:Menlo,'DejaVu Sans Mono',consolas,'Courier New',monospace\"></pre>\n"
      ],
      "text/plain": []
     },
     "metadata": {},
     "output_type": "display_data"
    },
    {
     "data": {
      "text/html": [
       "<pre style=\"white-space:pre;overflow-x:auto;line-height:normal;font-family:Menlo,'DejaVu Sans Mono',consolas,'Courier New',monospace\">\n",
       "</pre>\n"
      ],
      "text/plain": [
       "\n"
      ]
     },
     "metadata": {},
     "output_type": "display_data"
    },
    {
     "name": "stderr",
     "output_type": "stream",
     "text": [
      "Finished [100%]: Average Loss = 27.784\n"
     ]
    }
   ],
   "source": [
    "np.random.seed(40)\n",
    "observed_data = np.random.normal(0.0177,0.25,1000)\n",
    "\n",
    "with pm.Model() as basic:\n",
    "    N1 = pm.Gamma('N1',alpha = 25,beta = 0.005)\n",
    "    T1 = pm.Exponential('T1',lam = 1/3000)\n",
    "    obs = pm.Normal('obs',mu=frac_function_pm(N1,1,10,0,T1),sigma = 0.25,observed = observed_data)\n",
    "    mean_field = pm.fit(obj_optimizer=pm.adagrad_window(learning_rate=1e-2))\n",
    "    trace = mean_field.sample(draws=5000)"
   ]
  },
  {
   "cell_type": "code",
   "execution_count": 21,
   "metadata": {},
   "outputs": [
    {
     "data": {
      "text/plain": [
       "array([<Axes: title={'center': 'N1'}>, <Axes: title={'center': 'T1'}>],\n",
       "      dtype=object)"
      ]
     },
     "execution_count": 21,
     "metadata": {},
     "output_type": "execute_result"
    },
    {
     "data": {
      "image/png": "[encoded data removed]",
      "text/plain": [
       "<Figure size 1472x552 with 2 Axes>"
      ]
     },
     "metadata": {},
     "output_type": "display_data"
    }
   ],
   "source": [
    "az.plot_posterior(trace, color=\"LightSeaGreen\")\n"
   ]
  },
  {
   "cell_type": "code",
   "execution_count": 7,
   "metadata": {},
   "outputs": [
    {
     "data": {
      "text/plain": [
       "array([[1., 0., 0., 0., 0., 0., 0., 0., 0., 0.],\n",
       "       [0., 1., 0., 0., 0., 0., 0., 0., 0., 0.],\n",
       "       [0., 0., 1., 0., 0., 0., 0., 0., 0., 0.],\n",
       "       [0., 0., 0., 1., 0., 0., 0., 0., 0., 0.],\n",
       "       [0., 0., 0., 0., 1., 0., 0., 0., 0., 0.],\n",
       "       [0., 0., 0., 0., 0., 1., 0., 0., 0., 0.],\n",
       "       [0., 0., 0., 0., 0., 0., 1., 0., 0., 0.],\n",
       "       [0., 0., 0., 0., 0., 0., 0., 1., 0., 0.],\n",
       "       [0., 0., 0., 0., 0., 0., 0., 0., 1., 0.],\n",
       "       [0., 0., 0., 0., 0., 0., 0., 0., 0., 1.]])"
      ]
     },
     "execution_count": 7,
     "metadata": {},
     "output_type": "execute_result"
    }
   ],
   "source": [
    "pt.eye(pt.eye(10)[0].shape[0]).eval()"
   ]
  }
 ],
 "metadata": {
  "kernelspec": {
   "display_name": "base",
   "language": "python",
   "name": "python3"
  },
  "language_info": {
   "codemirror_mode": {
    "name": "ipython",
    "version": 3
   },
   "file_extension": ".py",
   "mimetype": "text/x-python",
   "name": "python",
   "nbconvert_exporter": "python",
   "pygments_lexer": "ipython3",
   "version": "3.12.3"
  }
 },
 "nbformat": 4,
 "nbformat_minor": 2
}
